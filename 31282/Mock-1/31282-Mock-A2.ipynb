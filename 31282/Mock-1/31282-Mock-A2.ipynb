{
 "cells": [
  {
   "cell_type": "code",
   "execution_count": 144,
   "id": "af398c1d",
   "metadata": {},
   "outputs": [],
   "source": [
    "import pandas as pd\n",
    "import matplotlib.pyplot as plt\n",
    "import seaborn as sns\n",
    "import numpy as np"
   ]
  },
  {
   "cell_type": "code",
   "execution_count": 145,
   "id": "9004400f",
   "metadata": {},
   "outputs": [],
   "source": [
    "df = pd.read_csv(\"/home/TE/Downloads/StudentsPerformance_modified.csv\")\n",
    "orgnl = pd.read_csv(\"/home/TE/Downloads/StudentsPerformance_modified.csv\")"
   ]
  },
  {
   "cell_type": "code",
   "execution_count": 8,
   "id": "7890f4e9",
   "metadata": {},
   "outputs": [],
   "source": [
    "# 1. Scan all variables for missing values and inconsistencies. If there are missing values and/or \n",
    "#     inconsistencies, use any of the suitable techniques to deal with them.\n",
    "# 2. Scan all numeric variables for outliers. If there are outliers, use any of the suitable techniques to deal\n",
    "#     with them.\n",
    "# 3. Apply data transformations on at least one of the variables. The purpose of this transformation should be \n",
    "#     one of the following reasons: to change the scale for better understanding of the variable, to convert a \n",
    "#     non-linear relation into a linear one, or to decrease the skewness and convert the distribution into a \n",
    "#     normal distribution."
   ]
  },
  {
   "cell_type": "code",
   "execution_count": 146,
   "id": "e3eaca22",
   "metadata": {},
   "outputs": [
    {
     "data": {
      "text/html": [
       "<div>\n",
       "<style scoped>\n",
       "    .dataframe tbody tr th:only-of-type {\n",
       "        vertical-align: middle;\n",
       "    }\n",
       "\n",
       "    .dataframe tbody tr th {\n",
       "        vertical-align: top;\n",
       "    }\n",
       "\n",
       "    .dataframe thead th {\n",
       "        text-align: right;\n",
       "    }\n",
       "</style>\n",
       "<table border=\"1\" class=\"dataframe\">\n",
       "  <thead>\n",
       "    <tr style=\"text-align: right;\">\n",
       "      <th></th>\n",
       "      <th>gender</th>\n",
       "      <th>race/ethnicity</th>\n",
       "      <th>parental level of education</th>\n",
       "      <th>lunch</th>\n",
       "      <th>test preparation course</th>\n",
       "      <th>math score</th>\n",
       "      <th>reading score</th>\n",
       "      <th>writing score</th>\n",
       "    </tr>\n",
       "  </thead>\n",
       "  <tbody>\n",
       "    <tr>\n",
       "      <th>0</th>\n",
       "      <td>female</td>\n",
       "      <td>group B</td>\n",
       "      <td>bachelor's degree</td>\n",
       "      <td>standard</td>\n",
       "      <td>none</td>\n",
       "      <td>72</td>\n",
       "      <td>72.0</td>\n",
       "      <td>74.0</td>\n",
       "    </tr>\n",
       "    <tr>\n",
       "      <th>1</th>\n",
       "      <td>female</td>\n",
       "      <td>group C</td>\n",
       "      <td>some college</td>\n",
       "      <td>standard</td>\n",
       "      <td>completed</td>\n",
       "      <td>69</td>\n",
       "      <td>90.0</td>\n",
       "      <td>88.0</td>\n",
       "    </tr>\n",
       "    <tr>\n",
       "      <th>2</th>\n",
       "      <td>female</td>\n",
       "      <td>group B</td>\n",
       "      <td>master's degree</td>\n",
       "      <td>standard</td>\n",
       "      <td>none</td>\n",
       "      <td>90</td>\n",
       "      <td>95.0</td>\n",
       "      <td>93.0</td>\n",
       "    </tr>\n",
       "    <tr>\n",
       "      <th>3</th>\n",
       "      <td>male</td>\n",
       "      <td>group A</td>\n",
       "      <td>associate's degree</td>\n",
       "      <td>free/reduced</td>\n",
       "      <td>none</td>\n",
       "      <td>47</td>\n",
       "      <td>57.0</td>\n",
       "      <td>44.0</td>\n",
       "    </tr>\n",
       "    <tr>\n",
       "      <th>4</th>\n",
       "      <td>male</td>\n",
       "      <td>group C</td>\n",
       "      <td>some college</td>\n",
       "      <td>standard</td>\n",
       "      <td>none</td>\n",
       "      <td>76</td>\n",
       "      <td>78.0</td>\n",
       "      <td>75.0</td>\n",
       "    </tr>\n",
       "  </tbody>\n",
       "</table>\n",
       "</div>"
      ],
      "text/plain": [
       "   gender race/ethnicity parental level of education         lunch  \\\n",
       "0  female        group B           bachelor's degree      standard   \n",
       "1  female        group C                some college      standard   \n",
       "2  female        group B             master's degree      standard   \n",
       "3    male        group A          associate's degree  free/reduced   \n",
       "4    male        group C                some college      standard   \n",
       "\n",
       "  test preparation course math score  reading score  writing score  \n",
       "0                    none         72           72.0           74.0  \n",
       "1               completed         69           90.0           88.0  \n",
       "2                    none         90           95.0           93.0  \n",
       "3                    none         47           57.0           44.0  \n",
       "4                    none         76           78.0           75.0  "
      ]
     },
     "execution_count": 146,
     "metadata": {},
     "output_type": "execute_result"
    }
   ],
   "source": [
    "df.head()"
   ]
  },
  {
   "cell_type": "code",
   "execution_count": 147,
   "id": "8061481a",
   "metadata": {
    "scrolled": true
   },
   "outputs": [
    {
     "name": "stdout",
     "output_type": "stream",
     "text": [
      "NULL:\n",
      " gender                         0\n",
      "race/ethnicity                 0\n",
      "parental level of education    0\n",
      "lunch                          0\n",
      "test preparation course        0\n",
      "math score                     8\n",
      "reading score                  1\n",
      "writing score                  2\n",
      "dtype: int64\n",
      "NA: \n",
      " gender                         0\n",
      "race/ethnicity                 0\n",
      "parental level of education    0\n",
      "lunch                          0\n",
      "test preparation course        0\n",
      "math score                     8\n",
      "reading score                  1\n",
      "writing score                  2\n",
      "dtype: int64\n"
     ]
    }
   ],
   "source": [
    "print(\"NULL:\\n\",df.isnull().sum())\n",
    "print(\"NA: \\n\", df.isna().sum())"
   ]
  },
  {
   "cell_type": "code",
   "execution_count": 149,
   "id": "b2a9a545",
   "metadata": {},
   "outputs": [
    {
     "name": "stderr",
     "output_type": "stream",
     "text": [
      "/tmp/ipykernel_4423/2622515659.py:1: FutureWarning: Dropping of nuisance columns in DataFrame reductions (with 'numeric_only=None') is deprecated; in a future version this will raise TypeError.  Select only valid columns before calling the reduction.\n",
      "  df.fillna(df.mean(), inplace = True)\n"
     ]
    }
   ],
   "source": [
    "df.fillna(df.mean(), inplace = True)"
   ]
  },
  {
   "cell_type": "code",
   "execution_count": 150,
   "id": "8bde0208",
   "metadata": {},
   "outputs": [
    {
     "name": "stdout",
     "output_type": "stream",
     "text": [
      "NULL:\n",
      " gender                         0\n",
      "race/ethnicity                 0\n",
      "parental level of education    0\n",
      "lunch                          0\n",
      "test preparation course        0\n",
      "math score                     8\n",
      "reading score                  0\n",
      "writing score                  0\n",
      "dtype: int64\n",
      "NA: \n",
      " gender                         0\n",
      "race/ethnicity                 0\n",
      "parental level of education    0\n",
      "lunch                          0\n",
      "test preparation course        0\n",
      "math score                     8\n",
      "reading score                  0\n",
      "writing score                  0\n",
      "dtype: int64\n"
     ]
    }
   ],
   "source": [
    "print(\"NULL:\\n\",df.isnull().sum())\n",
    "print(\"NA: \\n\", df.isna().sum())"
   ]
  },
  {
   "cell_type": "code",
   "execution_count": 151,
   "id": "151d6e16",
   "metadata": {},
   "outputs": [
    {
     "data": {
      "text/plain": [
       "8"
      ]
     },
     "execution_count": 151,
     "metadata": {},
     "output_type": "execute_result"
    }
   ],
   "source": [
    "df[\"math score\"].isnull().sum()"
   ]
  },
  {
   "cell_type": "code",
   "execution_count": 152,
   "id": "6cbd97d9",
   "metadata": {},
   "outputs": [
    {
     "data": {
      "text/plain": [
       "dtype('O')"
      ]
     },
     "execution_count": 152,
     "metadata": {},
     "output_type": "execute_result"
    }
   ],
   "source": [
    "df[\"math score\"].dtypes"
   ]
  },
  {
   "cell_type": "code",
   "execution_count": 153,
   "id": "f360b631",
   "metadata": {},
   "outputs": [],
   "source": [
    "df[\"math score\"] = pd.to_numeric(df[\"math score\"], errors='coerce').fillna(0).astype(np.int64)"
   ]
  },
  {
   "cell_type": "code",
   "execution_count": 154,
   "id": "09b6757c",
   "metadata": {},
   "outputs": [
    {
     "data": {
      "text/plain": [
       "0"
      ]
     },
     "execution_count": 154,
     "metadata": {},
     "output_type": "execute_result"
    }
   ],
   "source": [
    "df['math score'].isnull().sum()"
   ]
  },
  {
   "cell_type": "code",
   "execution_count": 156,
   "id": "e2971bfe",
   "metadata": {},
   "outputs": [
    {
     "data": {
      "text/html": [
       "<div>\n",
       "<style scoped>\n",
       "    .dataframe tbody tr th:only-of-type {\n",
       "        vertical-align: middle;\n",
       "    }\n",
       "\n",
       "    .dataframe tbody tr th {\n",
       "        vertical-align: top;\n",
       "    }\n",
       "\n",
       "    .dataframe thead th {\n",
       "        text-align: right;\n",
       "    }\n",
       "</style>\n",
       "<table border=\"1\" class=\"dataframe\">\n",
       "  <thead>\n",
       "    <tr style=\"text-align: right;\">\n",
       "      <th></th>\n",
       "      <th>gender</th>\n",
       "      <th>race/ethnicity</th>\n",
       "      <th>parental level of education</th>\n",
       "      <th>lunch</th>\n",
       "      <th>test preparation course</th>\n",
       "      <th>math score</th>\n",
       "      <th>reading score</th>\n",
       "      <th>writing score</th>\n",
       "    </tr>\n",
       "  </thead>\n",
       "  <tbody>\n",
       "    <tr>\n",
       "      <th>0</th>\n",
       "      <td>female</td>\n",
       "      <td>group B</td>\n",
       "      <td>bachelor's degree</td>\n",
       "      <td>standard</td>\n",
       "      <td>none</td>\n",
       "      <td>72</td>\n",
       "      <td>72.0</td>\n",
       "      <td>74.0</td>\n",
       "    </tr>\n",
       "    <tr>\n",
       "      <th>1</th>\n",
       "      <td>female</td>\n",
       "      <td>group C</td>\n",
       "      <td>some college</td>\n",
       "      <td>standard</td>\n",
       "      <td>completed</td>\n",
       "      <td>69</td>\n",
       "      <td>90.0</td>\n",
       "      <td>88.0</td>\n",
       "    </tr>\n",
       "    <tr>\n",
       "      <th>2</th>\n",
       "      <td>female</td>\n",
       "      <td>group B</td>\n",
       "      <td>master's degree</td>\n",
       "      <td>standard</td>\n",
       "      <td>none</td>\n",
       "      <td>90</td>\n",
       "      <td>95.0</td>\n",
       "      <td>93.0</td>\n",
       "    </tr>\n",
       "    <tr>\n",
       "      <th>3</th>\n",
       "      <td>male</td>\n",
       "      <td>group A</td>\n",
       "      <td>associate's degree</td>\n",
       "      <td>free/reduced</td>\n",
       "      <td>none</td>\n",
       "      <td>47</td>\n",
       "      <td>57.0</td>\n",
       "      <td>44.0</td>\n",
       "    </tr>\n",
       "    <tr>\n",
       "      <th>4</th>\n",
       "      <td>male</td>\n",
       "      <td>group C</td>\n",
       "      <td>some college</td>\n",
       "      <td>standard</td>\n",
       "      <td>none</td>\n",
       "      <td>76</td>\n",
       "      <td>78.0</td>\n",
       "      <td>75.0</td>\n",
       "    </tr>\n",
       "  </tbody>\n",
       "</table>\n",
       "</div>"
      ],
      "text/plain": [
       "   gender race/ethnicity parental level of education         lunch  \\\n",
       "0  female        group B           bachelor's degree      standard   \n",
       "1  female        group C                some college      standard   \n",
       "2  female        group B             master's degree      standard   \n",
       "3    male        group A          associate's degree  free/reduced   \n",
       "4    male        group C                some college      standard   \n",
       "\n",
       "  test preparation course  math score  reading score  writing score  \n",
       "0                    none          72           72.0           74.0  \n",
       "1               completed          69           90.0           88.0  \n",
       "2                    none          90           95.0           93.0  \n",
       "3                    none          47           57.0           44.0  \n",
       "4                    none          76           78.0           75.0  "
      ]
     },
     "execution_count": 156,
     "metadata": {},
     "output_type": "execute_result"
    }
   ],
   "source": [
    "df.head()"
   ]
  },
  {
   "cell_type": "code",
   "execution_count": 157,
   "id": "b3cbe7f9",
   "metadata": {},
   "outputs": [
    {
     "data": {
      "text/plain": [
       "array([\"bachelor's degree\", 'some college', \"master's degree\",\n",
       "       \"associate's degree\", 'high school', 'some high school'],\n",
       "      dtype=object)"
      ]
     },
     "execution_count": 157,
     "metadata": {},
     "output_type": "execute_result"
    }
   ],
   "source": [
    "df[\"parental level of education\"].unique()"
   ]
  },
  {
   "cell_type": "code",
   "execution_count": 158,
   "id": "97f3f334",
   "metadata": {},
   "outputs": [],
   "source": [
    "mapping = {\n",
    "    \"associate's degree\":5,\n",
    "    \"master's degree\": 4,\n",
    "    \"bachelor's degree\":3, \n",
    "    'some college':2,  \n",
    "    'high school':1, \n",
    "    'some high school':0\n",
    "}"
   ]
  },
  {
   "cell_type": "code",
   "execution_count": 159,
   "id": "e42ef849",
   "metadata": {},
   "outputs": [
    {
     "data": {
      "text/plain": [
       "0      3\n",
       "1      2\n",
       "2      4\n",
       "3      5\n",
       "4      2\n",
       "      ..\n",
       "434    0\n",
       "435    2\n",
       "436    5\n",
       "437    5\n",
       "438    5\n",
       "Name: parental level of education, Length: 439, dtype: int64"
      ]
     },
     "execution_count": 159,
     "metadata": {},
     "output_type": "execute_result"
    }
   ],
   "source": [
    "df[\"parental level of education\"] = df[\"parental level of education\"].map(mapping)\n",
    "df[\"parental level of education\"]"
   ]
  },
  {
   "cell_type": "code",
   "execution_count": 160,
   "id": "06be80b9",
   "metadata": {},
   "outputs": [],
   "source": [
    "from sklearn import preprocessing\n",
    "\n",
    "label_encoder = preprocessing.LabelEncoder()\n",
    "\n",
    "df['gender']= label_encoder.fit_transform(df['gender'])\n",
    "df['race/ethnicity']= label_encoder.fit_transform(df['race/ethnicity'])\n",
    "df['lunch']= label_encoder.fit_transform(df['lunch'])\n",
    "df[\"test preparation course\"]= label_encoder.fit_transform(df[\"test preparation course\"])"
   ]
  },
  {
   "cell_type": "code",
   "execution_count": 161,
   "id": "5627d5d2",
   "metadata": {},
   "outputs": [
    {
     "data": {
      "text/html": [
       "<div>\n",
       "<style scoped>\n",
       "    .dataframe tbody tr th:only-of-type {\n",
       "        vertical-align: middle;\n",
       "    }\n",
       "\n",
       "    .dataframe tbody tr th {\n",
       "        vertical-align: top;\n",
       "    }\n",
       "\n",
       "    .dataframe thead th {\n",
       "        text-align: right;\n",
       "    }\n",
       "</style>\n",
       "<table border=\"1\" class=\"dataframe\">\n",
       "  <thead>\n",
       "    <tr style=\"text-align: right;\">\n",
       "      <th></th>\n",
       "      <th>gender</th>\n",
       "      <th>race/ethnicity</th>\n",
       "      <th>parental level of education</th>\n",
       "      <th>lunch</th>\n",
       "      <th>test preparation course</th>\n",
       "      <th>math score</th>\n",
       "      <th>reading score</th>\n",
       "      <th>writing score</th>\n",
       "    </tr>\n",
       "  </thead>\n",
       "  <tbody>\n",
       "    <tr>\n",
       "      <th>0</th>\n",
       "      <td>0</td>\n",
       "      <td>1</td>\n",
       "      <td>3</td>\n",
       "      <td>1</td>\n",
       "      <td>1</td>\n",
       "      <td>72</td>\n",
       "      <td>72.0</td>\n",
       "      <td>74.0</td>\n",
       "    </tr>\n",
       "    <tr>\n",
       "      <th>1</th>\n",
       "      <td>0</td>\n",
       "      <td>2</td>\n",
       "      <td>2</td>\n",
       "      <td>1</td>\n",
       "      <td>0</td>\n",
       "      <td>69</td>\n",
       "      <td>90.0</td>\n",
       "      <td>88.0</td>\n",
       "    </tr>\n",
       "    <tr>\n",
       "      <th>2</th>\n",
       "      <td>0</td>\n",
       "      <td>1</td>\n",
       "      <td>4</td>\n",
       "      <td>1</td>\n",
       "      <td>1</td>\n",
       "      <td>90</td>\n",
       "      <td>95.0</td>\n",
       "      <td>93.0</td>\n",
       "    </tr>\n",
       "    <tr>\n",
       "      <th>3</th>\n",
       "      <td>1</td>\n",
       "      <td>0</td>\n",
       "      <td>5</td>\n",
       "      <td>0</td>\n",
       "      <td>1</td>\n",
       "      <td>47</td>\n",
       "      <td>57.0</td>\n",
       "      <td>44.0</td>\n",
       "    </tr>\n",
       "    <tr>\n",
       "      <th>4</th>\n",
       "      <td>1</td>\n",
       "      <td>2</td>\n",
       "      <td>2</td>\n",
       "      <td>1</td>\n",
       "      <td>1</td>\n",
       "      <td>76</td>\n",
       "      <td>78.0</td>\n",
       "      <td>75.0</td>\n",
       "    </tr>\n",
       "  </tbody>\n",
       "</table>\n",
       "</div>"
      ],
      "text/plain": [
       "   gender  race/ethnicity  parental level of education  lunch  \\\n",
       "0       0               1                            3      1   \n",
       "1       0               2                            2      1   \n",
       "2       0               1                            4      1   \n",
       "3       1               0                            5      0   \n",
       "4       1               2                            2      1   \n",
       "\n",
       "   test preparation course  math score  reading score  writing score  \n",
       "0                        1          72           72.0           74.0  \n",
       "1                        0          69           90.0           88.0  \n",
       "2                        1          90           95.0           93.0  \n",
       "3                        1          47           57.0           44.0  \n",
       "4                        1          76           78.0           75.0  "
      ]
     },
     "execution_count": 161,
     "metadata": {},
     "output_type": "execute_result"
    }
   ],
   "source": [
    "df.head()"
   ]
  },
  {
   "cell_type": "code",
   "execution_count": 162,
   "id": "2a3ee84b",
   "metadata": {},
   "outputs": [],
   "source": [
    "df['total score'] = df['writing score'] + df['math score'] + df['reading score']"
   ]
  },
  {
   "cell_type": "code",
   "execution_count": 163,
   "id": "df672560",
   "metadata": {},
   "outputs": [
    {
     "data": {
      "text/plain": [
       "{'whiskers': [<matplotlib.lines.Line2D at 0x7f1e2efe9e20>,\n",
       "  <matplotlib.lines.Line2D at 0x7f1e2eff8040>],\n",
       " 'caps': [<matplotlib.lines.Line2D at 0x7f1e2eff8310>,\n",
       "  <matplotlib.lines.Line2D at 0x7f1e2eff85e0>],\n",
       " 'boxes': [<matplotlib.lines.Line2D at 0x7f1e2efe9b50>],\n",
       " 'medians': [<matplotlib.lines.Line2D at 0x7f1e2eff88b0>],\n",
       " 'fliers': [<matplotlib.lines.Line2D at 0x7f1e2eff8b80>],\n",
       " 'means': []}"
      ]
     },
     "execution_count": 163,
     "metadata": {},
     "output_type": "execute_result"
    },
    {
     "data": {
      "image/png": "[encoded data removed]",
      "text/plain": [
       "<Figure size 432x288 with 1 Axes>"
      ]
     },
     "metadata": {
      "needs_background": "light"
     },
     "output_type": "display_data"
    }
   ],
   "source": [
    "plt.boxplot(df[\"total score\"], notch=None, vert=None, patch_artist=None, widths=None)"
   ]
  },
  {
   "cell_type": "code",
   "execution_count": 164,
   "id": "be04c931",
   "metadata": {},
   "outputs": [
    {
     "data": {
      "text/plain": [
       "<AxesSubplot:xlabel='total score', ylabel='Count'>"
      ]
     },
     "execution_count": 164,
     "metadata": {},
     "output_type": "execute_result"
    },
    {
     "data": {
      "image/png": "[encoded data removed]",
      "text/plain": [
       "<Figure size 432x288 with 1 Axes>"
      ]
     },
     "metadata": {
      "needs_background": "light"
     },
     "output_type": "display_data"
    }
   ],
   "source": [
    "sns.histplot(df['total score'], bins=30)"
   ]
  },
  {
   "cell_type": "code",
   "execution_count": 165,
   "id": "7649700d",
   "metadata": {},
   "outputs": [
    {
     "name": "stdout",
     "output_type": "stream",
     "text": [
      "68.5\n",
      "60.75 334.75\n"
     ]
    }
   ],
   "source": [
    "arr1 = df[\"total score\"]\n",
    "q1 = np.quantile(arr1, 0.25)\n",
    "q3 = np.quantile(arr1, 0.75)\n",
    "med = np.median(arr1)\n",
    "iqr = q3-q1\n",
    "upper_bound = q3+(1.5*iqr)\n",
    "lower_bound = q1-(1.5*iqr)\n",
    "print(iqr)\n",
    "print(lower_bound, upper_bound)"
   ]
  },
  {
   "cell_type": "code",
   "execution_count": 166,
   "id": "118ace83",
   "metadata": {},
   "outputs": [],
   "source": [
    "lowScorers = df.loc[df['total score'] <= 60.75]"
   ]
  },
  {
   "cell_type": "code",
   "execution_count": 210,
   "id": "79ce72f5",
   "metadata": {},
   "outputs": [],
   "source": [
    "df = df.loc[lower_bound <= df['total score']]"
   ]
  },
  {
   "cell_type": "code",
   "execution_count": 211,
   "id": "6d07890d",
   "metadata": {},
   "outputs": [
    {
     "data": {
      "text/html": [
       "<div>\n",
       "<style scoped>\n",
       "    .dataframe tbody tr th:only-of-type {\n",
       "        vertical-align: middle;\n",
       "    }\n",
       "\n",
       "    .dataframe tbody tr th {\n",
       "        vertical-align: top;\n",
       "    }\n",
       "\n",
       "    .dataframe thead th {\n",
       "        text-align: right;\n",
       "    }\n",
       "</style>\n",
       "<table border=\"1\" class=\"dataframe\">\n",
       "  <thead>\n",
       "    <tr style=\"text-align: right;\">\n",
       "      <th></th>\n",
       "      <th>gender</th>\n",
       "      <th>race/ethnicity</th>\n",
       "      <th>parental level of education</th>\n",
       "      <th>lunch</th>\n",
       "      <th>test preparation course</th>\n",
       "      <th>math score</th>\n",
       "      <th>reading score</th>\n",
       "      <th>writing score</th>\n",
       "      <th>total score</th>\n",
       "    </tr>\n",
       "  </thead>\n",
       "  <tbody>\n",
       "    <tr>\n",
       "      <th>17</th>\n",
       "      <td>0</td>\n",
       "      <td>1</td>\n",
       "      <td>0</td>\n",
       "      <td>0</td>\n",
       "      <td>1</td>\n",
       "      <td>0</td>\n",
       "      <td>32.0</td>\n",
       "      <td>28.0</td>\n",
       "      <td>60.0</td>\n",
       "    </tr>\n",
       "    <tr>\n",
       "      <th>59</th>\n",
       "      <td>0</td>\n",
       "      <td>2</td>\n",
       "      <td>0</td>\n",
       "      <td>0</td>\n",
       "      <td>1</td>\n",
       "      <td>0</td>\n",
       "      <td>17.0</td>\n",
       "      <td>10.0</td>\n",
       "      <td>27.0</td>\n",
       "    </tr>\n",
       "  </tbody>\n",
       "</table>\n",
       "</div>"
      ],
      "text/plain": [
       "    gender  race/ethnicity  parental level of education  lunch  \\\n",
       "17       0               1                            0      0   \n",
       "59       0               2                            0      0   \n",
       "\n",
       "    test preparation course  math score  reading score  writing score  \\\n",
       "17                        1           0           32.0           28.0   \n",
       "59                        1           0           17.0           10.0   \n",
       "\n",
       "    total score  \n",
       "17         60.0  \n",
       "59         27.0  "
      ]
     },
     "execution_count": 211,
     "metadata": {},
     "output_type": "execute_result"
    }
   ],
   "source": [
    "lowScorers"
   ]
  },
  {
   "cell_type": "code",
   "execution_count": 168,
   "id": "dbcfb941",
   "metadata": {},
   "outputs": [
    {
     "data": {
      "text/plain": [
       "gender                                   female\n",
       "race/ethnicity                          group B\n",
       "parental level of education    some high school\n",
       "lunch                              free/reduced\n",
       "test preparation course                    none\n",
       "math score                                  NaN\n",
       "reading score                              32.0\n",
       "writing score                              28.0\n",
       "Name: 17, dtype: object"
      ]
     },
     "execution_count": 168,
     "metadata": {},
     "output_type": "execute_result"
    }
   ],
   "source": [
    "orgnl.iloc[17]"
   ]
  },
  {
   "cell_type": "code",
   "execution_count": 169,
   "id": "9ee71fa2",
   "metadata": {},
   "outputs": [
    {
     "data": {
      "text/plain": [
       "gender                                   female\n",
       "race/ethnicity                          group C\n",
       "parental level of education    some high school\n",
       "lunch                              free/reduced\n",
       "test preparation course                    none\n",
       "math score                                    0\n",
       "reading score                              17.0\n",
       "writing score                              10.0\n",
       "Name: 59, dtype: object"
      ]
     },
     "execution_count": 169,
     "metadata": {},
     "output_type": "execute_result"
    }
   ],
   "source": [
    "orgnl.iloc[59]"
   ]
  },
  {
   "cell_type": "code",
   "execution_count": 180,
   "id": "c33c4545",
   "metadata": {},
   "outputs": [
    {
     "data": {
      "text/plain": [
       "gender                          0.0\n",
       "race/ethnicity                  2.0\n",
       "parental level of education     0.0\n",
       "lunch                           0.0\n",
       "test preparation course         1.0\n",
       "math score                      0.0\n",
       "reading score                  17.0\n",
       "writing score                  10.0\n",
       "total score                    27.0\n",
       "Name: 59, dtype: float64"
      ]
     },
     "execution_count": 180,
     "metadata": {},
     "output_type": "execute_result"
    }
   ],
   "source": [
    "df.drop(59)\n",
    "df.drop(17)"
   ]
  },
  {
   "cell_type": "code",
   "execution_count": 212,
   "id": "f7532d1f",
   "metadata": {},
   "outputs": [
    {
     "data": {
      "image/png": "[encoded data removed]",
      "text/plain": [
       "<Figure size 432x288 with 1 Axes>"
      ]
     },
     "metadata": {
      "needs_background": "light"
     },
     "output_type": "display_data"
    }
   ],
   "source": [
    "# plotting total score variance and mean scores against education of parents\n",
    "meanScore = []\n",
    "variance = []\n",
    "maxValues = []\n",
    "minValues = []\n",
    "\n",
    "levelEdu = [0, 1, 2, 3, 4, 5]\n",
    "for i in levelEdu:\n",
    "  sub_df = df[df['parental level of education'] == i]\n",
    "  meanScore.append(sub_df['total score'].mean())\n",
    "  variance.append(sub_df['total score'].var())\n",
    "  maxValues.append(sub_df['total score'].max())\n",
    "  minValues.append(sub_df['total score'].min())\n",
    "\n",
    "plt.plot(levelEdu, meanScore, label='meanScore')\n",
    "plt.plot(levelEdu, variance, label='variance')\n",
    "plt.plot(levelEdu, maxValues, label='maxValues')\n",
    "plt.plot(levelEdu, minValues, label='minValues')\n",
    "\n",
    "# Adding labels and legend\n",
    "plt.xlabel('parental level of education')\n",
    "plt.ylabel('Values')\n",
    "plt.title('Line Graph of a vs b and c')\n",
    "plt.legend()\n",
    "\n",
    "# Show the plot\n",
    "plt.show()"
   ]
  },
  {
   "cell_type": "code",
   "execution_count": 213,
   "id": "11f76148",
   "metadata": {},
   "outputs": [
    {
     "data": {
      "text/plain": [
       "<AxesSubplot:xlabel='parental level of education', ylabel='total score'>"
      ]
     },
     "execution_count": 213,
     "metadata": {},
     "output_type": "execute_result"
    },
    {
     "data": {
      "image/png": "[encoded data removed]",
      "text/plain": [
       "<Figure size 432x288 with 1 Axes>"
      ]
     },
     "metadata": {
      "needs_background": "light"
     },
     "output_type": "display_data"
    }
   ],
   "source": [
    "sns.boxplot(data=df, x='parental level of education', y ='total score')"
   ]
  },
  {
   "cell_type": "code",
   "execution_count": 214,
   "id": "19482815",
   "metadata": {},
   "outputs": [
    {
     "data": {
      "text/plain": [
       "[35, 87, 142, 114, 59]"
      ]
     },
     "execution_count": 214,
     "metadata": {},
     "output_type": "execute_result"
    }
   ],
   "source": [
    "temp = df['race/ethnicity'].value_counts()\n",
    "\n",
    "racef = []\n",
    "racel = []\n",
    "\n",
    "for i in range(len(temp)):\n",
    "    racef.append(temp[i])\n",
    "    racel.append(i)\n",
    "\n",
    "racef"
   ]
  },
  {
   "cell_type": "code",
   "execution_count": 215,
   "id": "6b510d4e",
   "metadata": {},
   "outputs": [
    {
     "data": {
      "image/png": "[encoded data removed]",
      "text/plain": [
       "<Figure size 432x288 with 1 Axes>"
      ]
     },
     "metadata": {},
     "output_type": "display_data"
    }
   ],
   "source": [
    "plt.pie(racef, labels = racel)\n",
    "plt.show() "
   ]
  },
  {
   "cell_type": "code",
   "execution_count": 216,
   "id": "fc855278",
   "metadata": {},
   "outputs": [
    {
     "data": {
      "text/plain": [
       "[82, 75, 100, 50, 26, 104]"
      ]
     },
     "execution_count": 216,
     "metadata": {},
     "output_type": "execute_result"
    }
   ],
   "source": [
    "temp = df['parental level of education'].value_counts()\n",
    "\n",
    "racef = []\n",
    "racel = []\n",
    "\n",
    "for i in range(len(temp)):\n",
    "    racef.append(temp[i])\n",
    "    racel.append(i)\n",
    "\n",
    "racef"
   ]
  },
  {
   "cell_type": "code",
   "execution_count": 217,
   "id": "22baed80",
   "metadata": {},
   "outputs": [
    {
     "data": {
      "image/png": "[encoded data removed]",
      "text/plain": [
       "<Figure size 432x288 with 1 Axes>"
      ]
     },
     "metadata": {},
     "output_type": "display_data"
    }
   ],
   "source": [
    "plt.pie(racef, labels = racel)\n",
    "plt.show() "
   ]
  },
  {
   "cell_type": "code",
   "execution_count": 218,
   "id": "7d7927bb",
   "metadata": {},
   "outputs": [
    {
     "data": {
      "text/plain": [
       "[152, 285]"
      ]
     },
     "execution_count": 218,
     "metadata": {},
     "output_type": "execute_result"
    }
   ],
   "source": [
    "temp = df['test preparation course'].value_counts()\n",
    "\n",
    "racef = []\n",
    "racel = []\n",
    "\n",
    "for i in range(len(temp)):\n",
    "    racef.append(temp[i])\n",
    "    racel.append(i)\n",
    "\n",
    "racef"
   ]
  },
  {
   "cell_type": "code",
   "execution_count": 219,
   "id": "fd79a66e",
   "metadata": {},
   "outputs": [
    {
     "data": {
      "image/png": "[encoded data removed]",
      "text/plain": [
       "<Figure size 432x288 with 1 Axes>"
      ]
     },
     "metadata": {},
     "output_type": "display_data"
    }
   ],
   "source": [
    "plt.pie(racef, labels = racel)\n",
    "plt.show() "
   ]
  },
  {
   "cell_type": "code",
   "execution_count": 220,
   "id": "90ca321e",
   "metadata": {},
   "outputs": [
    {
     "name": "stdout",
     "output_type": "stream",
     "text": [
      "0.0 1.0 0.560604917415218\n"
     ]
    }
   ],
   "source": [
    "print(df_norm.min(), df_norm.max(), df_norm.mean())"
   ]
  },
  {
   "cell_type": "code",
   "execution_count": 221,
   "id": "7efdbfc6",
   "metadata": {},
   "outputs": [],
   "source": [
    "# sns.histplot(df_norm, bins=30)\n",
    "df_norm = df['total score']"
   ]
  },
  {
   "cell_type": "code",
   "execution_count": 222,
   "id": "c2f9952c",
   "metadata": {},
   "outputs": [
    {
     "name": "stdout",
     "output_type": "stream",
     "text": [
      "68.0\n",
      "62.0 334.0\n"
     ]
    }
   ],
   "source": [
    "arr1 = df_norm\n",
    "q1 = np.quantile(arr1, 0.25)\n",
    "q3 = np.quantile(arr1, 0.75)\n",
    "med = np.median(arr1)\n",
    "iqr = q3-q1\n",
    "upper_bound = q3+(1.5*iqr)\n",
    "lower_bound = q1-(1.5*iqr)\n",
    "print(iqr)\n",
    "print(lower_bound, upper_bound)\n",
    "\n",
    "df_norm = df_norm.loc[lower_bound <= df_norm]"
   ]
  },
  {
   "cell_type": "code",
   "execution_count": 223,
   "id": "7aa1707a",
   "metadata": {},
   "outputs": [
    {
     "data": {
      "text/plain": [
       "0      0.652361\n",
       "1      0.776824\n",
       "2      0.909871\n",
       "3      0.351931\n",
       "4      0.699571\n",
       "         ...   \n",
       "434    0.283262\n",
       "435    0.150215\n",
       "436    0.283262\n",
       "437    0.313305\n",
       "438    0.313305\n",
       "Name: total score, Length: 437, dtype: float64"
      ]
     },
     "execution_count": 223,
     "metadata": {},
     "output_type": "execute_result"
    }
   ],
   "source": [
    "# min max normalization\n",
    "df_norm = (df_norm - df_norm.min()) / (df_norm.max() - df_norm.min())\n",
    "df_norm"
   ]
  },
  {
   "cell_type": "code",
   "execution_count": 224,
   "id": "f1aae9d2",
   "metadata": {},
   "outputs": [
    {
     "data": {
      "text/plain": [
       "<AxesSubplot:xlabel='total score', ylabel='Count'>"
      ]
     },
     "execution_count": 224,
     "metadata": {},
     "output_type": "execute_result"
    },
    {
     "data": {
      "image/png": "[encoded data removed]",
      "text/plain": [
       "<Figure size 432x288 with 1 Axes>"
      ]
     },
     "metadata": {
      "needs_background": "light"
     },
     "output_type": "display_data"
    }
   ],
   "source": [
    "sns.histplot(df_norm, bins=30)"
   ]
  }
 ],
 "metadata": {
  "kernelspec": {
   "display_name": "Python 3 (ipykernel)",
   "language": "python",
   "name": "python3"
  },
  "language_info": {
   "codemirror_mode": {
    "name": "ipython",
    "version": 3
   },
   "file_extension": ".py",
   "mimetype": "text/x-python",
   "name": "python",
   "nbconvert_exporter": "python",
   "pygments_lexer": "ipython3",
   "version": "3.8.10"
  }
 },
 "nbformat": 4,
 "nbformat_minor": 5
}
